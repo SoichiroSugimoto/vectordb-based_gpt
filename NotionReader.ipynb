{
  "cells": [
    {
      "cell_type": "markdown",
      "id": "effeb5a7-8544-4ee4-8c11-bad0d8165394",
      "metadata": {
        "id": "effeb5a7-8544-4ee4-8c11-bad0d8165394"
      },
      "source": [
        "# Notion Reader\n",
        "Read Notion date and insert it into Pinecone."
      ]
    },
    {
      "cell_type": "code",
      "execution_count": null,
      "id": "4d8df83d",
      "metadata": {
        "colab": {
          "base_uri": "https://localhost:8080/"
        },
        "id": "4d8df83d",
        "outputId": "4d459ffb-a172-4446-9346-897ea17b5cb4"
      },
      "outputs": [],
      "source": [
        "!pip install llama_index\n",
        "!pip install pinecone_client\n",
        "!pip install langchain\n",
        "!pip install sentence-transformers"
      ]
    },
    {
      "cell_type": "code",
      "execution_count": 8,
      "id": "6ea1f66d-10ed-4417-bdcb-f8a894836ea5",
      "metadata": {
        "id": "6ea1f66d-10ed-4417-bdcb-f8a894836ea5"
      },
      "outputs": [],
      "source": [
        "import os\n",
        "import logging\n",
        "import sys\n",
        "import requests\n",
        "import pinecone\n",
        "import torch\n",
        "from pinecone import Pinecone\n",
        "from IPython.display import Markdown, display\n",
        "from langchain.llms.openai import OpenAIChat\n",
        "from langchain_community.chat_models import ChatOpenAI\n",
        "from langchain.embeddings import HuggingFaceEmbeddings\n",
        "from llama_index.legacy import VectorStoreIndex\n",
        "from llama_index.legacy.indices import SummaryIndex, GPTVectorStoreIndex\n",
        "from llama_index.legacy.llms.openai import OpenAI\n",
        "from llama_index.legacy.readers.notion import NotionPageReader\n",
        "from llama_index.legacy.service_context import ServiceContext\n",
        "from llama_index.legacy.storage.storage_context import StorageContext\n",
        "from llama_index.legacy.vector_stores.pinecone import PineconeVectorStore"
      ]
    },
    {
      "cell_type": "code",
      "execution_count": 3,
      "id": "995afc19",
      "metadata": {
        "id": "995afc19"
      },
      "outputs": [],
      "source": [
        "logging.basicConfig(stream=sys.stdout, level=logging.INFO)\n",
        "logging.getLogger().addHandler(logging.StreamHandler(stream=sys.stdout))"
      ]
    },
    {
      "cell_type": "code",
      "execution_count": 4,
      "id": "fTLix2ID3vH0",
      "metadata": {
        "id": "fTLix2ID3vH0"
      },
      "outputs": [],
      "source": [
        "# Get secret keys\n",
        "from google.colab import userdata\n",
        "os.environ[\"OPENAI_API_KEY\"] = userdata.get('OPENAI_API_KEY')\n",
        "os.environ[\"NOTION_INTEGRATION_TOKEN\"] = userdata.get('NOTION_INTEGRATION_TOKEN')\n",
        "os.environ[\"PINECONE_API_KEY\"] = userdata.get('PINECONE_API_KEY')"
      ]
    },
    {
      "cell_type": "code",
      "execution_count": 5,
      "id": "rlzTaksO4yB7",
      "metadata": {
        "id": "rlzTaksO4yB7"
      },
      "outputs": [],
      "source": [
        "# Define constants\n",
        "PINECONE_ENVIRONMENT = 'us-west1-gcp-free'\n",
        "PINECONE_INDEX_NAME = 'notion-based-gpt'\n",
        "EMBEDDING_MODEL='text-embedding-ada-002'\n",
        "NOTION_DATABASE_ID='0bcee2b8bfa64ef9a6e2c93a890feeaf'"
      ]
    },
    {
      "cell_type": "code",
      "execution_count": null,
      "id": "dkfhlq7AcKZH",
      "metadata": {
        "colab": {
          "base_uri": "https://localhost:8080/"
        },
        "id": "dkfhlq7AcKZH",
        "outputId": "1be45463-286f-4f0c-c0a3-0ed80bf0d790"
      },
      "outputs": [],
      "source": [
        "pc = Pinecone(api_key=os.environ[\"PINECONE_API_KEY\"])\n",
        "index = pc.Index(PINECONE_INDEX_NAME)\n",
        "vector_store = PineconeVectorStore(index)\n",
        "storage_context = StorageContext.from_defaults(vector_store=vector_store)\n",
        "llm = OpenAIChat(temperature=0, model=EMBEDDING_MODEL)\n",
        "service_context = ServiceContext.from_defaults(llm=llm)"
      ]
    },
    {
      "cell_type": "code",
      "execution_count": null,
      "id": "_2pHocUicYSs",
      "metadata": {
        "id": "_2pHocUicYSs"
      },
      "outputs": [],
      "source": [
        "def create_document_data(id, data_type):\n",
        "  if data_type == 'text':\n",
        "    documents = NotionPageReader(integration_token=os.environ[\"NOTION_INTEGRATION_TOKEN\"]).load_data(\n",
        "          page_ids=[id]\n",
        "      )\n",
        "    return documents[0]\n",
        "  elif data_type == 'database':\n",
        "    documents = NotionPageReader(integration_token=os.environ[\"NOTION_INTEGRATION_TOKEN\"]).load_data(\n",
        "          database_id=id\n",
        "      )\n",
        "    return documents[0]\n",
        "  else:\n",
        "    return (None)"
      ]
    },
    {
      "cell_type": "code",
      "execution_count": null,
      "id": "a-mIArzkA-j7",
      "metadata": {
        "id": "a-mIArzkA-j7"
      },
      "outputs": [],
      "source": [
        "# Fetch Notion page ids from Notion dataabse. It regards there is a notion database that has Notion page id in title column of each record.\n",
        "notion_integration_token = os.environ[\"NOTION_INTEGRATION_TOKEN\"]\n",
        "\n",
        "headers = {\n",
        "    \"Authorization\": f\"Bearer {notion_integration_token}\",\n",
        "    \"Content-Type\": \"application/json\",\n",
        "    \"Notion-Version\": \"2022-06-28\"\n",
        "}\n",
        "\n",
        "read_url = f\"https://api.notion.com/v1/databases/{NOTION_DATABASE_ID}/query\"\n",
        "response = requests.post(read_url, headers=headers)\n",
        "\n",
        "if response.status_code == 200:\n",
        "    data = response.json()\n",
        "else:\n",
        "    print(f\"Error: {response.status_code}\")\n",
        "\n",
        "# page_ids = []\n",
        "documents_list = []\n",
        "\n",
        "for metadata in data['results']:\n",
        "  if metadata['properties']['Insert Flag']['select']['name'] == 'TRUE':\n",
        "    if metadata['properties']['Alternative Text']['select']['name'] == 'TRUE':\n",
        "      alt_page_id = metadata['url'].replace('https://www.notion.so/', '')\n",
        "      alt_document_data = create_document_data(alt_page_id, metadata['properties']['Data Category']['select']['name'])\n",
        "      page_id = metadata['properties']['ID']['title'][0]['text']['content']\n",
        "      document_data = create_document_data(page_id, metadata['properties']['Data Category']['select']['name'])\n",
        "      vars(document_data)['text'] = vars(alt_document_data)['text']\n",
        "      documents_list.append(document_data)\n",
        "    else:\n",
        "      page_id = metadata['properties']['ID']['title'][0]['text']['content']\n",
        "      documents_list.append(create_document_data(page_id, metadata['properties']['Data Category']['select']['name']))"
      ]
    },
    {
      "cell_type": "code",
      "execution_count": null,
      "id": "uYv_HoYFPOoh",
      "metadata": {
        "colab": {
          "base_uri": "https://localhost:8080/",
          "height": 67,
          "referenced_widgets": [
            "cd6dfe0f617d41e283afceb253edf7b2",
            "d051e708b2fc4943ada937137be53d07",
            "07f0a479e1e94cc6ad916d940903d9d6",
            "e9a6bbd6c3434d7fab41b7ac49f83859",
            "7274046eb31c401799864c1b928b5513",
            "b5327633fac94ea59a5a8cfdd525b01a",
            "bd5b9b89fd2b47948f57c3b7e7df4e4f",
            "c86bb478491841a7aa8c7b46f2767604",
            "452ae802d19d4d548a1a19b552dbc881",
            "9a54e3f3a79f4eb68c180ef5deb36b02",
            "da16bbf383dd4aa8b0443fd3f7b92828"
          ]
        },
        "id": "uYv_HoYFPOoh",
        "outputId": "f9c61059-77b6-4a2c-866c-ae173c442c15"
      },
      "outputs": [],
      "source": [
        "# Insert Document data into Pinecone\n",
        "VectorStoreIndex.from_documents(documents_list, storage_context=storage_context, service_context=service_context)"
      ]
    }
  ],
  "metadata": {
    "colab": {
      "provenance": []
    },
    "kernelspec": {
      "display_name": "Python 3 (ipykernel)",
      "language": "python",
      "name": "python3"
    },
    "language_info": {
      "codemirror_mode": {
        "name": "ipython",
        "version": 3
      },
      "file_extension": ".py",
      "mimetype": "text/x-python",
      "name": "python",
      "nbconvert_exporter": "python",
      "pygments_lexer": "ipython3"
    },
    "vscode": {
      "interpreter": {
        "hash": "c32397a35d2e76e766f80c3872b208f0c0029e8a6a9b8e2a8fe7b1641cfa009b"
      }
    },
    "widgets": {
      "application/vnd.jupyter.widget-state+json": {
        "07f0a479e1e94cc6ad916d940903d9d6": {
          "model_module": "@jupyter-widgets/controls",
          "model_module_version": "1.5.0",
          "model_name": "FloatProgressModel",
          "state": {
            "_dom_classes": [],
            "_model_module": "@jupyter-widgets/controls",
            "_model_module_version": "1.5.0",
            "_model_name": "FloatProgressModel",
            "_view_count": null,
            "_view_module": "@jupyter-widgets/controls",
            "_view_module_version": "1.5.0",
            "_view_name": "ProgressView",
            "bar_style": "",
            "description": "",
            "description_tooltip": null,
            "layout": "IPY_MODEL_c86bb478491841a7aa8c7b46f2767604",
            "max": 7,
            "min": 0,
            "orientation": "horizontal",
            "style": "IPY_MODEL_452ae802d19d4d548a1a19b552dbc881",
            "value": 7
          }
        },
        "452ae802d19d4d548a1a19b552dbc881": {
          "model_module": "@jupyter-widgets/controls",
          "model_module_version": "1.5.0",
          "model_name": "ProgressStyleModel",
          "state": {
            "_model_module": "@jupyter-widgets/controls",
            "_model_module_version": "1.5.0",
            "_model_name": "ProgressStyleModel",
            "_view_count": null,
            "_view_module": "@jupyter-widgets/base",
            "_view_module_version": "1.2.0",
            "_view_name": "StyleView",
            "bar_color": null,
            "description_width": ""
          }
        },
        "7274046eb31c401799864c1b928b5513": {
          "model_module": "@jupyter-widgets/base",
          "model_module_version": "1.2.0",
          "model_name": "LayoutModel",
          "state": {
            "_model_module": "@jupyter-widgets/base",
            "_model_module_version": "1.2.0",
            "_model_name": "LayoutModel",
            "_view_count": null,
            "_view_module": "@jupyter-widgets/base",
            "_view_module_version": "1.2.0",
            "_view_name": "LayoutView",
            "align_content": null,
            "align_items": null,
            "align_self": null,
            "border": null,
            "bottom": null,
            "display": null,
            "flex": null,
            "flex_flow": null,
            "grid_area": null,
            "grid_auto_columns": null,
            "grid_auto_flow": null,
            "grid_auto_rows": null,
            "grid_column": null,
            "grid_gap": null,
            "grid_row": null,
            "grid_template_areas": null,
            "grid_template_columns": null,
            "grid_template_rows": null,
            "height": null,
            "justify_content": null,
            "justify_items": null,
            "left": null,
            "margin": null,
            "max_height": null,
            "max_width": null,
            "min_height": null,
            "min_width": null,
            "object_fit": null,
            "object_position": null,
            "order": null,
            "overflow": null,
            "overflow_x": null,
            "overflow_y": null,
            "padding": null,
            "right": null,
            "top": null,
            "visibility": null,
            "width": null
          }
        },
        "9a54e3f3a79f4eb68c180ef5deb36b02": {
          "model_module": "@jupyter-widgets/base",
          "model_module_version": "1.2.0",
          "model_name": "LayoutModel",
          "state": {
            "_model_module": "@jupyter-widgets/base",
            "_model_module_version": "1.2.0",
            "_model_name": "LayoutModel",
            "_view_count": null,
            "_view_module": "@jupyter-widgets/base",
            "_view_module_version": "1.2.0",
            "_view_name": "LayoutView",
            "align_content": null,
            "align_items": null,
            "align_self": null,
            "border": null,
            "bottom": null,
            "display": null,
            "flex": null,
            "flex_flow": null,
            "grid_area": null,
            "grid_auto_columns": null,
            "grid_auto_flow": null,
            "grid_auto_rows": null,
            "grid_column": null,
            "grid_gap": null,
            "grid_row": null,
            "grid_template_areas": null,
            "grid_template_columns": null,
            "grid_template_rows": null,
            "height": null,
            "justify_content": null,
            "justify_items": null,
            "left": null,
            "margin": null,
            "max_height": null,
            "max_width": null,
            "min_height": null,
            "min_width": null,
            "object_fit": null,
            "object_position": null,
            "order": null,
            "overflow": null,
            "overflow_x": null,
            "overflow_y": null,
            "padding": null,
            "right": null,
            "top": null,
            "visibility": null,
            "width": null
          }
        },
        "b5327633fac94ea59a5a8cfdd525b01a": {
          "model_module": "@jupyter-widgets/base",
          "model_module_version": "1.2.0",
          "model_name": "LayoutModel",
          "state": {
            "_model_module": "@jupyter-widgets/base",
            "_model_module_version": "1.2.0",
            "_model_name": "LayoutModel",
            "_view_count": null,
            "_view_module": "@jupyter-widgets/base",
            "_view_module_version": "1.2.0",
            "_view_name": "LayoutView",
            "align_content": null,
            "align_items": null,
            "align_self": null,
            "border": null,
            "bottom": null,
            "display": null,
            "flex": null,
            "flex_flow": null,
            "grid_area": null,
            "grid_auto_columns": null,
            "grid_auto_flow": null,
            "grid_auto_rows": null,
            "grid_column": null,
            "grid_gap": null,
            "grid_row": null,
            "grid_template_areas": null,
            "grid_template_columns": null,
            "grid_template_rows": null,
            "height": null,
            "justify_content": null,
            "justify_items": null,
            "left": null,
            "margin": null,
            "max_height": null,
            "max_width": null,
            "min_height": null,
            "min_width": null,
            "object_fit": null,
            "object_position": null,
            "order": null,
            "overflow": null,
            "overflow_x": null,
            "overflow_y": null,
            "padding": null,
            "right": null,
            "top": null,
            "visibility": null,
            "width": null
          }
        },
        "bd5b9b89fd2b47948f57c3b7e7df4e4f": {
          "model_module": "@jupyter-widgets/controls",
          "model_module_version": "1.5.0",
          "model_name": "DescriptionStyleModel",
          "state": {
            "_model_module": "@jupyter-widgets/controls",
            "_model_module_version": "1.5.0",
            "_model_name": "DescriptionStyleModel",
            "_view_count": null,
            "_view_module": "@jupyter-widgets/base",
            "_view_module_version": "1.2.0",
            "_view_name": "StyleView",
            "description_width": ""
          }
        },
        "c86bb478491841a7aa8c7b46f2767604": {
          "model_module": "@jupyter-widgets/base",
          "model_module_version": "1.2.0",
          "model_name": "LayoutModel",
          "state": {
            "_model_module": "@jupyter-widgets/base",
            "_model_module_version": "1.2.0",
            "_model_name": "LayoutModel",
            "_view_count": null,
            "_view_module": "@jupyter-widgets/base",
            "_view_module_version": "1.2.0",
            "_view_name": "LayoutView",
            "align_content": null,
            "align_items": null,
            "align_self": null,
            "border": null,
            "bottom": null,
            "display": null,
            "flex": null,
            "flex_flow": null,
            "grid_area": null,
            "grid_auto_columns": null,
            "grid_auto_flow": null,
            "grid_auto_rows": null,
            "grid_column": null,
            "grid_gap": null,
            "grid_row": null,
            "grid_template_areas": null,
            "grid_template_columns": null,
            "grid_template_rows": null,
            "height": null,
            "justify_content": null,
            "justify_items": null,
            "left": null,
            "margin": null,
            "max_height": null,
            "max_width": null,
            "min_height": null,
            "min_width": null,
            "object_fit": null,
            "object_position": null,
            "order": null,
            "overflow": null,
            "overflow_x": null,
            "overflow_y": null,
            "padding": null,
            "right": null,
            "top": null,
            "visibility": null,
            "width": null
          }
        },
        "cd6dfe0f617d41e283afceb253edf7b2": {
          "model_module": "@jupyter-widgets/controls",
          "model_module_version": "1.5.0",
          "model_name": "HBoxModel",
          "state": {
            "_dom_classes": [],
            "_model_module": "@jupyter-widgets/controls",
            "_model_module_version": "1.5.0",
            "_model_name": "HBoxModel",
            "_view_count": null,
            "_view_module": "@jupyter-widgets/controls",
            "_view_module_version": "1.5.0",
            "_view_name": "HBoxView",
            "box_style": "",
            "children": [
              "IPY_MODEL_d051e708b2fc4943ada937137be53d07",
              "IPY_MODEL_07f0a479e1e94cc6ad916d940903d9d6",
              "IPY_MODEL_e9a6bbd6c3434d7fab41b7ac49f83859"
            ],
            "layout": "IPY_MODEL_7274046eb31c401799864c1b928b5513"
          }
        },
        "d051e708b2fc4943ada937137be53d07": {
          "model_module": "@jupyter-widgets/controls",
          "model_module_version": "1.5.0",
          "model_name": "HTMLModel",
          "state": {
            "_dom_classes": [],
            "_model_module": "@jupyter-widgets/controls",
            "_model_module_version": "1.5.0",
            "_model_name": "HTMLModel",
            "_view_count": null,
            "_view_module": "@jupyter-widgets/controls",
            "_view_module_version": "1.5.0",
            "_view_name": "HTMLView",
            "description": "",
            "description_tooltip": null,
            "layout": "IPY_MODEL_b5327633fac94ea59a5a8cfdd525b01a",
            "placeholder": "​",
            "style": "IPY_MODEL_bd5b9b89fd2b47948f57c3b7e7df4e4f",
            "value": "Upserted vectors: 100%"
          }
        },
        "da16bbf383dd4aa8b0443fd3f7b92828": {
          "model_module": "@jupyter-widgets/controls",
          "model_module_version": "1.5.0",
          "model_name": "DescriptionStyleModel",
          "state": {
            "_model_module": "@jupyter-widgets/controls",
            "_model_module_version": "1.5.0",
            "_model_name": "DescriptionStyleModel",
            "_view_count": null,
            "_view_module": "@jupyter-widgets/base",
            "_view_module_version": "1.2.0",
            "_view_name": "StyleView",
            "description_width": ""
          }
        },
        "e9a6bbd6c3434d7fab41b7ac49f83859": {
          "model_module": "@jupyter-widgets/controls",
          "model_module_version": "1.5.0",
          "model_name": "HTMLModel",
          "state": {
            "_dom_classes": [],
            "_model_module": "@jupyter-widgets/controls",
            "_model_module_version": "1.5.0",
            "_model_name": "HTMLModel",
            "_view_count": null,
            "_view_module": "@jupyter-widgets/controls",
            "_view_module_version": "1.5.0",
            "_view_name": "HTMLView",
            "description": "",
            "description_tooltip": null,
            "layout": "IPY_MODEL_9a54e3f3a79f4eb68c180ef5deb36b02",
            "placeholder": "​",
            "style": "IPY_MODEL_da16bbf383dd4aa8b0443fd3f7b92828",
            "value": " 7/7 [00:20&lt;00:00, 10.74it/s]"
          }
        }
      }
    }
  },
  "nbformat": 4,
  "nbformat_minor": 5
}
